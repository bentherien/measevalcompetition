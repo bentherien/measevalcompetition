{
 "cells": [
  {
   "cell_type": "markdown",
   "metadata": {},
   "source": [
    "This notebook contains code for diplaying spacy dependency format int a way that we can Identify measured entities, etc..."
   ]
  },
  {
   "cell_type": "code",
   "execution_count": 3,
   "metadata": {},
   "outputs": [],
   "source": [
    "#imports\n",
    "from __future__ import unicode_literals\n",
    "import pandas as pd\n",
    "import os.path\n",
    "from nltk.tokenize import word_tokenize\n",
    "import nltk\n",
    "import json\n",
    "\n",
    "TRIALPATH = \"data/trial\"\n",
    "TRAINPATH = \"data/train\"\n",
    "#setup SpaCy\n",
    "import spacy\n",
    "import en_core_web_lg\n",
    "spacy.prefer_gpu()\n",
    "nlp = en_core_web_lg.load()"
   ]
  },
  {
   "cell_type": "markdown",
   "metadata": {},
   "source": [
    "Rule-based Pipeline component for retrieving Quantities. \n",
    "\n",
    "Rules: \n",
    "    1. any DT followed by a unit that has a nouns POS will be called a unit\n",
    "\n"
   ]
  },
  {
   "cell_type": "code",
   "execution_count": 4,
   "metadata": {},
   "outputs": [],
   "source": [
    "#add pipeline component \n",
    "from spacy.matcher import Matcher\n",
    "from spacy.tokens import Doc\n",
    "Doc.set_extension(\"unit\", default = \"def\", force = True)\n",
    "\n",
    "def customMatcher(nlp):\n",
    "    matchList = open(\"measure_units.lst\").read().split(\"\\n\")\n",
    "    matcher = Matcher(nlp.vocab)\n",
    "    pattern = []\n",
    "    for word in matchList: \n",
    "        pattern.append([{\"TAG\": \"DT\"},{\"LOWER\": word.lower(),\"TAG\": {\"REGEX\": \"^[NN|NNP|NNPS|NNS]\"}}])\n",
    "        \n",
    "    matcher.add(\"Unit\", None, *pattern)\n",
    "        \n",
    "    return matcher\n",
    "    \n",
    "\n",
    "def gazetteer(doc):\n",
    "    matcher = customMatcher(nlp)\n",
    "    matches = matcher(doc)\n",
    "    doc._.unit = []\n",
    "    for match_id, start, end in matches:\n",
    "        tempSpan = doc[start:end]\n",
    "        doc._.unit.append({'start': tempSpan.start_char, 'end': tempSpan.end_char, 'label': 'UNIT', 'text' : doc[start:end]})\n",
    "    return doc\n",
    "        \n",
    "        \n",
    "        \n",
    "nlp.add_pipe(gazetteer, last=True)\n",
    "    "
   ]
  },
  {
   "cell_type": "code",
   "execution_count": 24,
   "metadata": {},
   "outputs": [],
   "source": [
    "class exerpt:\n",
    "    \"\"\"\n",
    "    Class exerpt\n",
    "    Description: a simple class to contain data for the measeval competition\n",
    "\n",
    "    self.name : the measeval given name associated to the document\n",
    "    self.txt : the raw text of the document\n",
    "    self.ann : the brat annotations of the document(deprecated)\n",
    "    self.tsv : a pandas dataframe containing all the tab seperated value data\n",
    "    self.grobid : grobid quantities json output for quantity detection\n",
    "    self.doc : The spacy doc generated from processing on this particular document\n",
    "    \"\"\"\n",
    "    \n",
    "    def __init__(self, name, txt, ann, tsv, grobid):\n",
    "        self.name = name\n",
    "        self.txt = txt\n",
    "        self.ann = ann\n",
    "        self.tsv = tsv\n",
    "        self.grobid = grobid\n",
    "        self.context = False\n",
    "        self.posTag = False\n",
    "        self.doc = nlp(self.txt)\n",
    "        \n",
    "    def getContext(self, count = 3):\n",
    "        if self.context == False: \n",
    "            beforeContext = []\n",
    "            afterContext = []\n",
    "            self.context = True\n",
    "            for start,end in zip(self.tsv[\"startOffset\"].values, self.tsv[\"endOffset\"].values ):#self.tsv.iterrows():\n",
    "                a = getIndexSeperated(exerpt.txt[0],end,count = count)\n",
    "                b = getIndexSeperated(exerpt.txt[0],start,count = count,forward = False)\n",
    "                beforeContext.append(self.txt[0][b:start])\n",
    "                afterContext.append(self.txt[0][end:a])\n",
    "            self.tsv.insert(3,\"beforeContext\", beforeContext)\n",
    "            self.tsv.insert(3,\"afterContext\", afterContext)\n",
    "            \n",
    "    def getPosTag(self):\n",
    "        if self.context and self.posTag == False: \n",
    "            bTag = []\n",
    "            aTag = []\n",
    "            self.posTag = True\n",
    "            for before, after in zip(self.tsv[\"beforeContext\"].values,self.tsv[\"afterContext\"].values):\n",
    "                bTag.append(nltk.pos_tag(word_tokenize(before)))\n",
    "                aTag.append(nltk.pos_tag(word_tokenize(after)))\n",
    "            self.tsv.insert(3,\"beforeTag\", bTag)\n",
    "            self.tsv.insert(3,\"afterTag\", aTag)\n",
    "            "
   ]
  },
  {
   "cell_type": "code",
   "execution_count": 25,
   "metadata": {},
   "outputs": [],
   "source": [
    "def readTXTByLine(filepath):\n",
    "    ftemp = open(filepath, \"r\", encoding = \"utf-8\")\n",
    "    raw = str(ftemp.read())\n",
    "    ftemp.close()\n",
    "    return raw\n",
    "\n",
    "data = {}\n",
    "\n",
    "#load all trial data\n",
    "for fn in os.listdir(os.path.join(TRIALPATH,\"txt\")):\n",
    "        if fn.endswith('.txt'):\n",
    "            data[fn[:-4]] = exerpt(\n",
    "                fn[:-4],\n",
    "                readTXTByLine(os.path.join(TRIALPATH, \"txt\", fn[:-4] + \".txt\")),\n",
    "                readTXTByLine(os.path.join(TRIALPATH, \"ann\", fn[:-4] + \".ann\")),\n",
    "                pd.read_csv(os.path.join(TRIALPATH, \"tsv\", fn[:-4] + \".tsv\"), \"\\t\", header = 0 ),\n",
    "                json.load(open(os.path.join(TRIALPATH, \"grobid\", fn[:-4] + \".grobid\")))\n",
    "            )\n",
    "\n",
    "#load all train data\n",
    "for fn in [x for x in os.listdir(os.path.join(TRAINPATH,\"text\")) if x[:-4]+\".tsv\" in os.listdir(os.path.join(TRAINPATH,\"tsv\"))]:\n",
    "        if fn.endswith('.txt'):\n",
    "            data[fn[:-4]] = exerpt(\n",
    "                fn[:-4],\n",
    "                readTXTByLine(os.path.join(TRAINPATH, \"text\", fn[:-4] + \".txt\")),\n",
    "                \"none\",\n",
    "                pd.read_csv(os.path.join(TRAINPATH, \"tsv\", fn[:-4] + \".tsv\"), \"\\t\", header = 0 ),\n",
    "                json.load(open(os.path.join(TRAINPATH, \"grobid\", fn[:-4] + \".grobid\"))))"
   ]
  },
  {
   "cell_type": "code",
   "execution_count": 26,
   "metadata": {},
   "outputs": [
    {
     "data": {
      "text/plain": [
       "dict_keys(['S0012821X12004384-1302', 'S0012821X12004384-1405', 'S0012821X12004384-1415', 'S0012821X12004384-1594', 'S0012821X12004384-1599', 'S0012821X13002185-1061', 'S0012821X13002185-1200', 'S0012821X13002185-1217', 'S0012821X13002185-1231', 'S0012821X13002185-835', 'S0012821X13007309-1482', 'S0012821X13007309-1509', 'S0012821X13007309-1605', 'S0012821X13007309-1989', 'S0016236113008041-3031', 'S0016236113008041-3112', 'S0016236113008041-3153', 'S0016236113008041-3171', 'S0016236113008041-3186', 'S0016236113008041-3207', 'S0016236113008041-3269', 'S0016236113008041-3290', 'S0016236113008041-890', 'S0016236113008041-913', 'S0016236113008041-967', 'S0019103511004994-1382', 'S0019103511004994-1511', 'S0019103511004994-1565', 'S0019103512002801-1342', 'S0019103512002801-1496', 'S0019103512002801-1608', 'S0019103512002801-1824', 'S0019103512002801-1849', 'S0019103512002801-1927', 'S0019103512003533-3299', 'S0019103512003533-3348', 'S0019103512003533-4685', 'S0019103512003533-4971', 'S0019103512003533-5031', 'S0019103512003533-5072', 'S0019103512003533-5251', 'S0019103512003533-5598', 'S0019103512003995-1807', 'S0019103512003995-1910', 'S0019103512003995-2760', 'S0019103512003995-3548', 'S0019103512004009-3488', 'S0019103512004009-3825', 'S0019103512004009-3962', 'S0019103512004009-4007', 'S0019103512004009-4492', 'S0019103512004009-5019', 'S0019103512004009-5507', 'S0019103513005058-1737', 'S0019103513005058-3094', 'S0019103513005058-4210', 'S0021979713004438-1415', 'S0021979713004438-1907', 'S0021979713004438-1969', 'S0021979713004438-2148', 'S0022000014000026-17824', 'S0022000014000026-18167', 'S0022399913003358-1044', 'S0022459611006116-1160', 'S0022459611006116-1195', 'S0006322312001096-1136', 'S0006322312001096-1177', 'S0006322312001096-1190', 'S0006322312001096-1194', 'S0006322312001096-1197', 'S0006322312001096-1202', 'S0006322312001096-1205', 'S0006322312001096-1221', 'S0006322312001096-1230', 'S0006322312001096-1248', 'S0006322312001096-1253', 'S0006322312001096-1260', 'S0006322312001096-1271', 'S0006322312001096-1275', 'S0006322312001096-1278', 'S0006322312001096-626', 'S0012821X12004384-1148', 'S0012821X12004384-1178', 'S0012821X12004384-1221', 'S0012821X12004384-1232', 'S0012821X12004384-1249', 'S0012821X12004384-1265', 'S0012821X12004384-1284', 'S0012821X12004384-1640', 'S0012821X12004384-952', 'S0012821X13002185-994', 'S0012821X13007309-1691', 'S0016236113008041-2924', 'S0016236113008041-3012', 'S0016236113008041-3159', 'S0016236113008041-3161', 'S0016236113008041-872', 'S0016236113008041-961', 'S0019103511004994-1399', 'S0019103511004994-996', 'S0019103512001388-1070', 'S0019103512001388-3081', 'S0019103512002801-1716', 'S0019103512002801-2018', 'S0019103512003533-3306', 'S0019103512003995-1283', 'S0019103512003995-1767', 'S0019103512003995-2737', 'S0019103512004009-2821', 'S0019103512004009-3976', 'S0019103512004009-4350', 'S0019103512004009-5033', 'S0019103512004009-5271', 'S0019103513005058-3154', 'S0019103513005058-3917', 'S0019103513005058-4098', 'S0019103513005058-4158', 'S0019103513005058-4302', 'S0019103513005058-4349', 'S0021979713004438-1401', 'S0022399913003358-931', 'S0022399913003358-943', 'S0022459611006116-1448', 'S0022459611006116-547', 'S0025322712001600-2230', 'S0025322712001600-2406', 'S0031405612000728-1621', 'S0031405612000728-769', 'S0032063312002437-627', 'S0032063312003054-1990', 'S0032063312003054-2264', 'S0032063312003054-2467', 'S0032063312003054-2483', 'S0032063312003054-2501', 'S0032386113005454-2008', 'S0032386113005454-2055', 'S0032386113005454-2308', 'S0032386113005454-2601', 'S0032386113005454-2865', 'S0032386113009889-2123', 'S0038071711004354-2573', 'S0038071712001010-1044', 'S0038071712001010-918', 'S0038071712001010-944', 'S0038071713001971-1388', 'S0038071713001971-1427', 'S016412121300188X-4069', 'S016412121300188X-4392', 'S016412121300188X-4436', 'S016412121300188X-4545', 'S016412121300188X-4617', 'S016412121300188X-5038', 'S016412121300188X-5066', 'S0165587612003680-1078', 'S0165587612003680-953', 'S0165587612003680-998', 'S0167577X13006393-644', 'S0167577X13006393-787', 'S0167577X14001256-389', 'S0167577X14001256-517', 'S0167610512002292-3187', 'S0167610512002292-3305', 'S0167610513001001-1751', 'S0167610513001001-739', 'S0167610513002729-1062', 'S0167610513002729-1127', 'S0167819113001051-1247', 'S0167819113001051-1550', 'S0167880913001229-1021', 'S0167880913001229-1033', 'S0167880913001229-1225', 'S0167880913001229-1304', 'S0168945213001805-3964', 'S0168945213001805-4454', 'S0168945213001805-4536', 'S0168945213001805-4775', 'S0168945213001805-5026', 'S0169433213008933-689', 'S027737911400050X-2401', 'S030881461301604X-1001', 'S030881461301604X-1002', 'S0378112713005288-1720', 'S0378112713005288-1948', 'S0378112713005288-2062', 'S0378383911001669-1088', 'S0378383911001669-1634', 'S0378383911001669-2260', 'S0378383912000130-1048', 'S0378383912000130-1054', 'S0378383912000130-1096', 'S0378383912000130-3601', 'S0378383912000130-3662', 'S0378383912000130-3732', 'S0378383912000130-3745', 'S0378383912000130-3755', 'S0378383912000130-3827', 'S0378383912000130-3907', 'S0378383913001567-2462', 'S0921818113002245-1571', 'S0921818113002245-1752', 'S0921818113002245-859', 'S0921818113002245-882', 'S0925443913001385-1638', 'S0925443913001385-1646', 'S0925443913003037-1397', 'S0925443913003037-654', 'S0927024813001955-1005', 'S0927024813001955-576', 'S0927024813001955-679', 'S0927024813002420-1032', 'S0927024813002420-975', 'S0927024813002961-1051', 'S0927024813002961-1334', 'S0927024813003036-2011', 'S0927775713009606-1074', 'S0927775713009606-1216', 'S0927775713009606-1361', 'S0950705113001895-23699', 'S095741741101342X-2624', 'S095741741101342X-726', 'S0960148113002048-3775', 'S0960148113004989-3203', 'S0960148113004989-3277', 'S0960148113004989-3327', 'S0960148113005727-1181', 'S0960148113005727-1494', 'S0960148113005727-904', 'S0960896612001022-1223', 'S1161030113001950-923', 'S1359645413009816-2243', 'S1367912013002277-1213', 'S1387700313001822-661', 'S1388248113001951-339', 'S1389128612002496-5994', 'S1389128612002496-6119', 'S1389128612002496-6138', 'S1550413113004920-1509', 'S175058361300203X-1280', 'S175058361300203X-1483', 'S175058361300203X-1542', 'S175058361300203X-1556', 'S175058361300203X-1638', 'S1750583613004192-1267', 'S1750583613004192-714', 'S1873506113001116-1369', 'S1873506113001116-710', 'S1873506113001116-978', 'S1873506114000075-1132', 'S1873506114000075-1242', 'S2211124712002884-1060', 'S2211124712002884-1110', 'S2211124712002884-649', 'S2211124712002884-682', 'S2211124712002884-903', 'S2211124713006475-1195', 'S2211124713006475-1205', 'S2211124713006475-841', 'S2213158213000582-1327', 'S2213158213000582-1340', 'S2213671113000738-430', 'S2213671113000738-435', 'S2213671113000738-445', 'S2213671113000738-485', 'S2213671113000738-647', 'S2213671113000738-684', 'S2213671113000738-738', 'S2213671113000908-640', 'S2213671113000908-810', 'S2213671113000908-979', 'S2213671113000921-1279', 'S2213671113000921-994', 'S2213671113001306-1286', 'S2213671113001306-1398', 'S2213671113001306-1520', 'S2213671113001306-885', 'S2213671113001306-907', 'S2213671113001306-908', 'S2213671113001306-910'])"
      ]
     },
     "execution_count": 26,
     "metadata": {},
     "output_type": "execute_result"
    }
   ],
   "source": [
    "data.keys()"
   ]
  },
  {
   "cell_type": "code",
   "execution_count": 27,
   "metadata": {},
   "outputs": [
    {
     "ename": "ImportError",
     "evalue": "attempted relative import with no known parent package",
     "output_type": "error",
     "traceback": [
      "\u001b[1;31m---------------------------------------------------------------------------\u001b[0m",
      "\u001b[1;31mImportError\u001b[0m                               Traceback (most recent call last)",
      "\u001b[1;32m<ipython-input-27-ee98742cf802>\u001b[0m in \u001b[0;36m<module>\u001b[1;34m\u001b[0m\n\u001b[0;32m      2\u001b[0m \u001b[1;33m\u001b[0m\u001b[0m\n\u001b[0;32m      3\u001b[0m \u001b[1;33m\u001b[0m\u001b[0m\n\u001b[1;32m----> 4\u001b[1;33m \u001b[1;32mfrom\u001b[0m \u001b[1;33m...\u001b[0m\u001b[0msymbols\u001b[0m \u001b[1;32mimport\u001b[0m \u001b[0mPOS\u001b[0m\u001b[1;33m,\u001b[0m \u001b[0mPUNCT\u001b[0m\u001b[1;33m,\u001b[0m \u001b[0mSYM\u001b[0m\u001b[1;33m,\u001b[0m \u001b[0mADJ\u001b[0m\u001b[1;33m,\u001b[0m \u001b[0mCCONJ\u001b[0m\u001b[1;33m,\u001b[0m \u001b[0mNUM\u001b[0m\u001b[1;33m,\u001b[0m \u001b[0mDET\u001b[0m\u001b[1;33m,\u001b[0m \u001b[0mADV\u001b[0m\u001b[1;33m,\u001b[0m \u001b[0mADP\u001b[0m\u001b[1;33m,\u001b[0m \u001b[0mX\u001b[0m\u001b[1;33m,\u001b[0m \u001b[0mVERB\u001b[0m\u001b[1;33m\u001b[0m\u001b[1;33m\u001b[0m\u001b[0m\n\u001b[0m\u001b[0;32m      5\u001b[0m \u001b[1;32mfrom\u001b[0m \u001b[1;33m...\u001b[0m\u001b[0msymbols\u001b[0m \u001b[1;32mimport\u001b[0m \u001b[0mNOUN\u001b[0m\u001b[1;33m,\u001b[0m \u001b[0mPROPN\u001b[0m\u001b[1;33m,\u001b[0m \u001b[0mPART\u001b[0m\u001b[1;33m,\u001b[0m \u001b[0mINTJ\u001b[0m\u001b[1;33m,\u001b[0m \u001b[0mSPACE\u001b[0m\u001b[1;33m,\u001b[0m \u001b[0mPRON\u001b[0m\u001b[1;33m\u001b[0m\u001b[1;33m\u001b[0m\u001b[0m\n\u001b[0;32m      6\u001b[0m \u001b[1;33m\u001b[0m\u001b[0m\n",
      "\u001b[1;31mImportError\u001b[0m: attempted relative import with no known parent package"
     ]
    }
   ],
   "source": [
    "from spacy.lang.en.tag_map import TAG_MAP\n",
    "\n",
    "\n",
    "from ...symbols import POS, PUNCT, SYM, ADJ, CCONJ, NUM, DET, ADV, ADP, X, VERB\n",
    "from ...symbols import NOUN, PROPN, PART, INTJ, SPACE, PRON\n",
    "\n",
    "\n",
    "\n",
    "tempDoc = data['S2213671113001306-907']\n",
    "\n",
    "for index, row in tempDoc.tsv.iterrows():\n",
    "    for sent in tempDoc.doc.sents:\n",
    "        for token in sent:  \n",
    "            print(type(token.pos_))\n",
    "            if(token.idx >= row[\"startOffset\"] and token.idx < row[\"endOffset\"]):\n",
    "                TAG_MAP[str(token.pos_)+\"-\"+row[\"annotType\"]] = {POS: PUNCT}\n",
    "                token.pos_ = str(token.pos_)+\"-\"+row[\"annotType\"]\n",
    "                print(token.pos_)\n",
    "            elif(token.idx > row[\"endOffset\"]):\n",
    "                break\n",
    "        if(sent.start_char > row[\"endOffset\"]):\n",
    "            break"
   ]
  },
  {
   "cell_type": "code",
   "execution_count": 12,
   "metadata": {},
   "outputs": [
    {
     "name": "stdout",
     "output_type": "stream",
     "text": [
      "( 0\n",
      "A 1\n",
      ") 2\n",
      "Fetal 4\n",
      "hRPE 10\n",
      "stained 15\n",
      "for 23\n",
      "pan 27\n",
      "- 30\n",
      "cytokeratin 31\n",
      "( 43\n",
      "scale 44\n",
      "bar 50\n",
      ", 53\n",
      "50 55\n",
      "μm 58\n",
      ") 60\n",
      "; 61\n",
      "inset 63\n",
      "shows 69\n",
      "section 75\n",
      "overview 83\n",
      "stained 92\n",
      "with 100\n",
      "hematoxylin 105\n",
      "/ 116\n",
      "eosin 117\n",
      "( 123\n",
      "scale 124\n",
      "bar 130\n",
      ", 133\n",
      "200 135\n",
      "μm 139\n",
      ") 141\n",
      ". 142\n"
     ]
    }
   ],
   "source": [
    "for sent in tempDoc.doc.sents:\n",
    "    for token in sent:\n",
    "        print(token,token.idx)"
   ]
  },
  {
   "cell_type": "code",
   "execution_count": null,
   "metadata": {},
   "outputs": [],
   "source": []
  },
  {
   "cell_type": "markdown",
   "metadata": {},
   "source": [
    "The following for loop converts the current spaCy and human annotation format into a gate readable one using text/x-json-twitter format"
   ]
  },
  {
   "cell_type": "code",
   "execution_count": null,
   "metadata": {},
   "outputs": [],
   "source": [
    "import math\n",
    "for doc in data.values():\n",
    "    for index, row in doc.tsv.iterrows():\n",
    "        tempAnnot = {}\n",
    "        tempAnnot[\"indices\"] = [row[\"startOffset\"],row[\"endOffset\"]] \n",
    "        \n",
    "        \n",
    "        \n",
    "        \n",
    "        \n",
    "        \n",
    "        if(type(row[\"other\"]) == str):\n",
    "            tempAnnot[\"other\"] = row[\"other\"]\n",
    "        else:\n",
    "            tempAnnot[\"other\"] = \"nothing\"\n",
    "            \n",
    "        try:\n",
    "            twitjson[\"entities\"][\"MEval-\"+row[\"annotType\"]].append(tempAnnot)\n",
    "        except KeyError:\n",
    "            twitjson[\"entities\"][\"MEval-\"+row[\"annotType\"]] = [tempAnnot] \n",
    "\n",
    "    "
   ]
  },
  {
   "cell_type": "code",
   "execution_count": null,
   "metadata": {},
   "outputs": [],
   "source": []
  },
  {
   "cell_type": "code",
   "execution_count": null,
   "metadata": {},
   "outputs": [],
   "source": []
  },
  {
   "cell_type": "code",
   "execution_count": null,
   "metadata": {},
   "outputs": [],
   "source": []
  },
  {
   "cell_type": "code",
   "execution_count": null,
   "metadata": {},
   "outputs": [],
   "source": []
  },
  {
   "cell_type": "code",
   "execution_count": null,
   "metadata": {},
   "outputs": [],
   "source": []
  },
  {
   "cell_type": "code",
   "execution_count": null,
   "metadata": {},
   "outputs": [],
   "source": []
  },
  {
   "cell_type": "code",
   "execution_count": null,
   "metadata": {},
   "outputs": [],
   "source": []
  },
  {
   "cell_type": "code",
   "execution_count": 29,
   "metadata": {},
   "outputs": [],
   "source": [
    "#format [(docID, tokenNum)\n",
    "POSITIONAL_ii = {\"apple\": [(1,200),(2,150),(330,77),(330,203),(500,5)], \"orange\" : [(5,44)]}\n",
    "#disctinct terms: 2\n",
    "#nonpositional postings: 5\n",
    "#positional postings: 6\n",
    "NONPOSITIONAL_ii = {\"apple\": [1,2,330,500], \"orange\" : [5]}"
   ]
  },
  {
   "cell_type": "code",
   "execution_count": 30,
   "metadata": {},
   "outputs": [
    {
     "data": {
      "text/plain": [
       "[1, 2, 330, 500]"
      ]
     },
     "execution_count": 30,
     "metadata": {},
     "output_type": "execute_result"
    }
   ],
   "source": [
    "ii[\"apple\"]"
   ]
  },
  {
   "cell_type": "code",
   "execution_count": null,
   "metadata": {},
   "outputs": [],
   "source": [
    "\"I love New-York\" (1,3)"
   ]
  },
  {
   "cell_type": "code",
   "execution_count": null,
   "metadata": {},
   "outputs": [],
   "source": []
  },
  {
   "cell_type": "code",
   "execution_count": null,
   "metadata": {},
   "outputs": [],
   "source": []
  },
  {
   "cell_type": "code",
   "execution_count": null,
   "metadata": {},
   "outputs": [],
   "source": []
  },
  {
   "cell_type": "code",
   "execution_count": null,
   "metadata": {},
   "outputs": [],
   "source": []
  },
  {
   "cell_type": "code",
   "execution_count": null,
   "metadata": {},
   "outputs": [],
   "source": []
  },
  {
   "cell_type": "code",
   "execution_count": null,
   "metadata": {},
   "outputs": [],
   "source": []
  },
  {
   "cell_type": "code",
   "execution_count": null,
   "metadata": {},
   "outputs": [],
   "source": []
  },
  {
   "cell_type": "code",
   "execution_count": null,
   "metadata": {},
   "outputs": [],
   "source": []
  },
  {
   "cell_type": "code",
   "execution_count": null,
   "metadata": {},
   "outputs": [],
   "source": []
  },
  {
   "cell_type": "code",
   "execution_count": null,
   "metadata": {},
   "outputs": [],
   "source": []
  },
  {
   "cell_type": "code",
   "execution_count": null,
   "metadata": {},
   "outputs": [],
   "source": []
  },
  {
   "cell_type": "code",
   "execution_count": null,
   "metadata": {},
   "outputs": [],
   "source": []
  },
  {
   "cell_type": "code",
   "execution_count": null,
   "metadata": {},
   "outputs": [],
   "source": []
  },
  {
   "cell_type": "code",
   "execution_count": null,
   "metadata": {},
   "outputs": [],
   "source": []
  },
  {
   "cell_type": "code",
   "execution_count": null,
   "metadata": {},
   "outputs": [],
   "source": []
  },
  {
   "cell_type": "code",
   "execution_count": null,
   "metadata": {},
   "outputs": [],
   "source": []
  },
  {
   "cell_type": "code",
   "execution_count": null,
   "metadata": {},
   "outputs": [],
   "source": []
  },
  {
   "cell_type": "code",
   "execution_count": null,
   "metadata": {},
   "outputs": [],
   "source": []
  },
  {
   "cell_type": "code",
   "execution_count": null,
   "metadata": {},
   "outputs": [],
   "source": []
  },
  {
   "cell_type": "code",
   "execution_count": null,
   "metadata": {},
   "outputs": [],
   "source": []
  },
  {
   "cell_type": "code",
   "execution_count": null,
   "metadata": {},
   "outputs": [],
   "source": []
  },
  {
   "cell_type": "code",
   "execution_count": null,
   "metadata": {},
   "outputs": [],
   "source": []
  }
 ],
 "metadata": {
  "kernelspec": {
   "display_name": "Python 3",
   "language": "python",
   "name": "python3"
  },
  "language_info": {
   "codemirror_mode": {
    "name": "ipython",
    "version": 3
   },
   "file_extension": ".py",
   "mimetype": "text/x-python",
   "name": "python",
   "nbconvert_exporter": "python",
   "pygments_lexer": "ipython3",
   "version": "3.7.6"
  }
 },
 "nbformat": 4,
 "nbformat_minor": 4
}
