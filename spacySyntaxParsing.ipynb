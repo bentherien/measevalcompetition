{
 "cells": [
  {
   "cell_type": "code",
   "execution_count": 1,
   "metadata": {},
   "outputs": [],
   "source": [
    "from __future__ import unicode_literals, print_function\n",
    "import pandas as pd\n",
    "import os.path\n",
    "from nltk.tokenize import word_tokenize\n",
    "import nltk\n",
    "import json\n",
    "import spacy\n",
    "import plac\n",
    "spacy.prefer_gpu()\n",
    "nlp = spacy.load(\"en_core_web_sm\")\n",
    "\n",
    "TRIALPATH = \"data/trial\"\n",
    "TRAINPATH = \"data/train\"\n",
    "\n",
    "class exerpt:\n",
    "    def __init__(self, name, txt, ann, tsv, grobid):\n",
    "        self.name = name\n",
    "        self.txt = txt\n",
    "        self.ann = ann\n",
    "        self.tsv = tsv\n",
    "        self.grobid = grobid\n",
    "        self.context = False\n",
    "        self.posTag = False\n",
    "        self.doc = nlp(self.txt)\n",
    "        \n",
    "    def getContext(self, count = 3):\n",
    "        if self.context == False: \n",
    "            beforeContext = []\n",
    "            afterContext = []\n",
    "            self.context = True\n",
    "            for start,end in zip(self.tsv[\"startOffset\"].values, self.tsv[\"endOffset\"].values ):#self.tsv.iterrows():\n",
    "                a = getIndexSeperated(exerpt.txt[0],end,count = count)\n",
    "                b = getIndexSeperated(exerpt.txt[0],start,count = count,forward = False)\n",
    "                beforeContext.append(self.txt[0][b:start])\n",
    "                afterContext.append(self.txt[0][end:a])\n",
    "            self.tsv.insert(3,\"beforeContext\", beforeContext)\n",
    "            self.tsv.insert(3,\"afterContext\", afterContext)\n",
    "            \n",
    "    def getPosTag(self):\n",
    "        if self.context and self.posTag == False: \n",
    "            bTag = []\n",
    "            aTag = []\n",
    "            self.posTag = True\n",
    "            for before, after in zip(self.tsv[\"beforeContext\"].values,self.tsv[\"afterContext\"].values):\n",
    "                bTag.append(nltk.pos_tag(word_tokenize(before)))\n",
    "                aTag.append(nltk.pos_tag(word_tokenize(after)))\n",
    "            self.tsv.insert(3,\"beforeTag\", bTag)\n",
    "            self.tsv.insert(3,\"afterTag\", aTag)\n",
    "            \n",
    "\n",
    "\n",
    "def readTXTByLine(filepath):\n",
    "    ftemp = open(filepath, \"r\", encoding = \"utf-8\")\n",
    "    raw = str(ftemp.read())\n",
    "    ftemp.close()\n",
    "    return raw\n",
    "\n",
    "data = {}\n",
    "for fn in os.listdir(os.path.join(TRIALPATH,\"txt\")):\n",
    "        if fn.endswith('.txt'):\n",
    "            data[fn[:-4]] = exerpt(\n",
    "                fn[:-4],\n",
    "                readTXTByLine(os.path.join(TRIALPATH, \"txt\", fn[:-4] + \".txt\")),\n",
    "                readTXTByLine(os.path.join(TRIALPATH, \"ann\", fn[:-4] + \".ann\")),\n",
    "                pd.read_csv(os.path.join(TRIALPATH, \"tsv\", fn[:-4] + \".tsv\"), \"\\t\", header = 0 ),\n",
    "                json.load(open(os.path.join(TRIALPATH, \"grobid\", fn[:-4] + \".grobid\")))\n",
    "            )\n",
    "            \n",
    "for fn in [x for x in os.listdir(os.path.join(TRAINPATH,\"text\")) if x[:-4]+\".tsv\" in os.listdir(os.path.join(TRAINPATH,\"tsv\"))]:\n",
    "        if fn.endswith('.txt'):\n",
    "            data[fn[:-4]] = exerpt(\n",
    "                fn[:-4],\n",
    "                readTXTByLine(os.path.join(TRAINPATH, \"text\", fn[:-4] + \".txt\")),\n",
    "                \"none\",\n",
    "                pd.read_csv(os.path.join(TRAINPATH, \"tsv\", fn[:-4] + \".tsv\"), \"\\t\", header = 0 ),\n",
    "                json.load(open(os.path.join(TRAINPATH, \"grobid\", fn[:-4] + \".grobid\")))\n",
    "            )"
   ]
  },
  {
   "cell_type": "code",
   "execution_count": 2,
   "metadata": {},
   "outputs": [],
   "source": [
    "import spacy\n",
    "from nltk import Tree\n",
    "\n",
    "doc = data[\"S175058361300203X-1542\"].doc\n",
    "\n",
    "def tok_format(tok):\n",
    "    return \"_\".join([tok.orth_, tok.tag_])\n",
    "\n",
    "\n",
    "def to_nltk_tree(node):\n",
    "    if node.n_lefts + node.n_rights > 0:\n",
    "        return Tree(tok_format(node), [to_nltk_tree(child) for child in node.children])\n",
    "    else:\n",
    "        return tok_format(node)\n",
    "\n",
    "\n",
    "trees = [to_nltk_tree(sent.root) for sent in doc.sents]\n",
    "#[to_nltk_tree(sent.root).pretty_print() for sent in doc.sents]\n"
   ]
  },
  {
   "cell_type": "code",
   "execution_count": 21,
   "metadata": {},
   "outputs": [
    {
     "data": {
      "text/plain": [
       "[[It is well known that the seismic velocity in sandstones saturated with brine does not depend on temperatures in the range of 34–38 °C (e.g. Mavko, 2005).,\n",
       "  [(It, 'PRP'),\n",
       "   (is, 'VBZ'),\n",
       "   (well, 'RB'),\n",
       "   (known, 'VBN'),\n",
       "   (that, 'IN'),\n",
       "   (the, 'DT'),\n",
       "   (seismic, 'JJ'),\n",
       "   (velocity, 'NN'),\n",
       "   (in, 'IN'),\n",
       "   (sandstones, 'NNS'),\n",
       "   (saturated, 'VBN'),\n",
       "   (with, 'IN'),\n",
       "   (brine, 'NN'),\n",
       "   (does, 'VBZ'),\n",
       "   (not, 'RB'),\n",
       "   (depend, 'VB'),\n",
       "   (on, 'IN'),\n",
       "   (temperatures, 'NNS'),\n",
       "   (in, 'IN'),\n",
       "   (the, 'DT'),\n",
       "   (range, 'NN'),\n",
       "   (of, 'IN'),\n",
       "   (34–38, 'NN'),\n",
       "   (°, ','),\n",
       "   (C, 'NNP'),\n",
       "   ((, '-LRB-'),\n",
       "   (e.g., 'NNP'),\n",
       "   (Mavko, 'NNP'),\n",
       "   (,, ','),\n",
       "   (2005, 'CD'),\n",
       "   (), '-RRB-'),\n",
       "   (., '.')]],\n",
       " [To demonstrate this we calculated the difference in Vp between both temperature scenarios present at the Ketzin site at the time of the 1st 3D seismic repeat campaign (Ivanova et al., 2012) using Gassmann's equations (1951) for 50% CO2 saturation.,\n",
       "  [(To, 'TO'),\n",
       "   (demonstrate, 'VB'),\n",
       "   (this, 'DT'),\n",
       "   (we, 'PRP'),\n",
       "   (calculated, 'VBD'),\n",
       "   (the, 'DT'),\n",
       "   (difference, 'NN'),\n",
       "   (in, 'IN'),\n",
       "   (Vp, 'NNP'),\n",
       "   (between, 'IN'),\n",
       "   (both, 'DT'),\n",
       "   (temperature, 'NN'),\n",
       "   (scenarios, 'NNS'),\n",
       "   (present, 'JJ'),\n",
       "   (at, 'IN'),\n",
       "   (the, 'DT'),\n",
       "   (Ketzin, 'NNP'),\n",
       "   (site, 'NN'),\n",
       "   (at, 'IN'),\n",
       "   (the, 'DT'),\n",
       "   (time, 'NN'),\n",
       "   (of, 'IN'),\n",
       "   (the, 'DT'),\n",
       "   (1st, 'NNP'),\n",
       "   (3D, 'NNP'),\n",
       "   (seismic, 'JJ'),\n",
       "   (repeat, 'NN'),\n",
       "   (campaign, 'NN'),\n",
       "   ((, '-LRB-'),\n",
       "   (Ivanova, 'NNP'),\n",
       "   (et, 'FW'),\n",
       "   (al, 'NNP'),\n",
       "   (., 'NNP'),\n",
       "   (,, ','),\n",
       "   (2012, 'CD'),\n",
       "   (), '-RRB-'),\n",
       "   (using, 'VBG'),\n",
       "   (Gassmann, 'NNP'),\n",
       "   ('s, 'POS'),\n",
       "   (equations, 'NNS'),\n",
       "   ((, '-LRB-'),\n",
       "   (1951, 'CD'),\n",
       "   (), '-RRB-'),\n",
       "   (for, 'IN'),\n",
       "   (50, 'CD'),\n",
       "   (%, 'NN'),\n",
       "   (CO2, 'NNP'),\n",
       "   (saturation, 'NN'),\n",
       "   (., '.')]],\n",
       " [The resulting difference between the scenarios in Vp is less than 5 m/s.,\n",
       "  [(The, 'DT'),\n",
       "   (resulting, 'VBG'),\n",
       "   (difference, 'NN'),\n",
       "   (between, 'IN'),\n",
       "   (the, 'DT'),\n",
       "   (scenarios, 'NNS'),\n",
       "   (in, 'IN'),\n",
       "   (Vp, 'NNP'),\n",
       "   (is, 'VBZ'),\n",
       "   (less, 'JJR'),\n",
       "   (than, 'IN'),\n",
       "   (5, 'CD'),\n",
       "   (m, 'NN'),\n",
       "   (/, 'SYM'),\n",
       "   (s, 'NN'),\n",
       "   (., '.')]],\n",
       " [Considering the uncertainties (e.g. ±5% error in CO2 saturation) in the petrophysical experiments (Kummerow and Spangenberg, 2011; Ivanova et al., 2012) corresponding to ±70 m/s in Vp (Fig. 5), we did not take into account the Vp changes (Fig. 5, Eq.,\n",
       "  [(Considering, 'VBG'),\n",
       "   (the, 'DT'),\n",
       "   (uncertainties, 'NNS'),\n",
       "   ((, '-LRB-'),\n",
       "   (e.g., 'RB'),\n",
       "   (±5, 'CD'),\n",
       "   (%, 'NN'),\n",
       "   (error, 'NN'),\n",
       "   (in, 'IN'),\n",
       "   (CO2, 'NNP'),\n",
       "   (saturation, 'NN'),\n",
       "   (), '-RRB-'),\n",
       "   (in, 'IN'),\n",
       "   (the, 'DT'),\n",
       "   (petrophysical, 'JJ'),\n",
       "   (experiments, 'NNS'),\n",
       "   ((, '-LRB-'),\n",
       "   (Kummerow, 'NNP'),\n",
       "   (and, 'CC'),\n",
       "   (Spangenberg, 'NNP'),\n",
       "   (,, ','),\n",
       "   (2011, 'CD'),\n",
       "   (;, ':'),\n",
       "   (Ivanova, 'NNP'),\n",
       "   (et, 'FW'),\n",
       "   (al, 'NNP'),\n",
       "   (., 'NNP'),\n",
       "   (,, ','),\n",
       "   (2012, 'CD'),\n",
       "   (), '-RRB-'),\n",
       "   (corresponding, 'VBG'),\n",
       "   (to, 'IN'),\n",
       "   (±70, 'NNP'),\n",
       "   (m, 'NNP'),\n",
       "   (/, 'SYM'),\n",
       "   (s, 'NN'),\n",
       "   (in, 'IN'),\n",
       "   (Vp, 'NNP'),\n",
       "   ((, '-LRB-'),\n",
       "   (Fig, 'NNP'),\n",
       "   (., 'NNP'),\n",
       "   (5, 'CD'),\n",
       "   (), '-RRB-'),\n",
       "   (,, ','),\n",
       "   (we, 'PRP'),\n",
       "   (did, 'VBD'),\n",
       "   (not, 'RB'),\n",
       "   (take, 'VB'),\n",
       "   (into, 'IN'),\n",
       "   (account, 'NN'),\n",
       "   (the, 'DT'),\n",
       "   (Vp, 'FW'),\n",
       "   (changes, 'NNS'),\n",
       "   ((, '-LRB-'),\n",
       "   (Fig, 'NN'),\n",
       "   (., 'NNP'),\n",
       "   (5, 'CD'),\n",
       "   (,, ','),\n",
       "   (Eq, 'NNP'),\n",
       "   (., '.')]],\n",
       " [(1)) due to the different temperature scenarios (34 and 38 °C).,\n",
       "  [((, '-LRB-'),\n",
       "   (1, 'CD'),\n",
       "   (), '-RRB-'),\n",
       "   (), '-RRB-'),\n",
       "   (due, 'IN'),\n",
       "   (to, 'IN'),\n",
       "   (the, 'DT'),\n",
       "   (different, 'JJ'),\n",
       "   (temperature, 'NN'),\n",
       "   (scenarios, 'NNS'),\n",
       "   ((, '-LRB-'),\n",
       "   (34, 'CD'),\n",
       "   (and, 'CC'),\n",
       "   (38, 'CD'),\n",
       "   (°, ','),\n",
       "   (C, 'NNP'),\n",
       "   (), '-RRB-'),\n",
       "   (., '.')]]]"
      ]
     },
     "execution_count": 21,
     "metadata": {},
     "output_type": "execute_result"
    }
   ],
   "source": [
    "sentences = [[s,[(x, x.tag_) for x in s]] for s in data[\"S175058361300203X-1542\"].doc.sents]\n",
    "sentences"
   ]
  },
  {
   "cell_type": "code",
   "execution_count": 22,
   "metadata": {},
   "outputs": [],
   "source": [
    "\n",
    "grammar = nltk.data.load('grammars/large_grammars/atis.cfg')\n",
    "grammar._calculate_indexes()\n"
   ]
  },
  {
   "cell_type": "code",
   "execution_count": 26,
   "metadata": {},
   "outputs": [
    {
     "name": "stdout",
     "output_type": "stream",
     "text": [
      "True\n"
     ]
    },
    {
     "data": {
      "text/plain": [
       "It is well known that the seismic velocity in sandstones saturated with brine does not depend on temperatures in the range of 34–38 °C (e.g. Mavko, 2005)."
      ]
     },
     "execution_count": 26,
     "metadata": {},
     "output_type": "execute_result"
    }
   ],
   "source": [
    "print(\"six\" in \"ddddsixssss\")\n",
    "sentences[0][0]"
   ]
  },
  {
   "cell_type": "code",
   "execution_count": 31,
   "metadata": {},
   "outputs": [
    {
     "name": "stdout",
     "output_type": "stream",
     "text": [
      "ger\n"
     ]
    },
    {
     "data": {
      "text/plain": [
       "'It is well known that the seismic velocity in sandstones saturated with brine does not depend on temperatures in the range of 34–38 °C (e.g. Mavko, 2005.'"
      ]
     },
     "execution_count": 31,
     "metadata": {},
     "output_type": "execute_result"
    }
   ],
   "source": [
    "\n",
    "for t in sentences[0][1]:\n",
    "    for x in list(grammar._lhs_index.keys()):\n",
    "        if t[1] in str(x):\n",
    "            lhs = nltk.grammar.Nonterminal(str(x))\n",
    "            rhs = str(t[0])\n",
    "            new_production = nltk.grammar.Production(lhs, [rhs])\n",
    "            grammar._productions.append(new_production)\n",
    "            break\n",
    "        elif t[1] == '-RRB-':\n",
    "            print(\"ger\")\n",
    "            sentences[0][0] = str(sentences[0][0]).replace(str(t[0]),\"\")\n",
    "            break\n",
    "\n",
    "sentences[0][0]"
   ]
  },
  {
   "cell_type": "code",
   "execution_count": 28,
   "metadata": {},
   "outputs": [
    {
     "ename": "ValueError",
     "evalue": "Grammar does not cover some of the input words: \"'I', ' ', ' ', ' ', ' ', ' ', ' ', ' ', ' ', ' ', ' ', ' ', ' ', ' ', ' ', ' ', ' ', ' ', ' ', ' ', ' ', 'g', ' ', ' ', '3', '4', '–', '3', '8', ' ', '°', 'C', ' ', '(', 'g', ' ', 'M', ',', ' ', '2', '0', '0', '5'\".",
     "output_type": "error",
     "traceback": [
      "\u001b[1;31m---------------------------------------------------------------------------\u001b[0m",
      "\u001b[1;31mValueError\u001b[0m                                Traceback (most recent call last)",
      "\u001b[1;32m<ipython-input-28-200fd38d2bc1>\u001b[0m in \u001b[0;36m<module>\u001b[1;34m\u001b[0m\n\u001b[0;32m      1\u001b[0m \u001b[0mgrammar\u001b[0m\u001b[1;33m.\u001b[0m\u001b[0m_calculate_indexes\u001b[0m\u001b[1;33m(\u001b[0m\u001b[1;33m)\u001b[0m\u001b[1;33m\u001b[0m\u001b[1;33m\u001b[0m\u001b[0m\n\u001b[0;32m      2\u001b[0m \u001b[0mparser\u001b[0m \u001b[1;33m=\u001b[0m \u001b[0mnltk\u001b[0m\u001b[1;33m.\u001b[0m\u001b[0mparse\u001b[0m\u001b[1;33m.\u001b[0m\u001b[0mBottomUpChartParser\u001b[0m\u001b[1;33m(\u001b[0m\u001b[0mgrammar\u001b[0m\u001b[1;33m)\u001b[0m\u001b[1;33m\u001b[0m\u001b[1;33m\u001b[0m\u001b[0m\n\u001b[1;32m----> 3\u001b[1;33m \u001b[0mchart\u001b[0m \u001b[1;33m=\u001b[0m \u001b[0mparser\u001b[0m\u001b[1;33m.\u001b[0m\u001b[0mchart_parse\u001b[0m\u001b[1;33m(\u001b[0m\u001b[0msentences\u001b[0m\u001b[1;33m[\u001b[0m\u001b[1;36m0\u001b[0m\u001b[1;33m]\u001b[0m\u001b[1;33m[\u001b[0m\u001b[1;36m0\u001b[0m\u001b[1;33m]\u001b[0m\u001b[1;33m)\u001b[0m\u001b[1;33m\u001b[0m\u001b[1;33m\u001b[0m\u001b[0m\n\u001b[0m\u001b[0;32m      4\u001b[0m \u001b[0mchart\u001b[0m\u001b[1;33m.\u001b[0m\u001b[0mdraw\u001b[0m\u001b[1;33m(\u001b[0m\u001b[1;33m)\u001b[0m\u001b[1;33m\u001b[0m\u001b[1;33m\u001b[0m\u001b[0m\n",
      "\u001b[1;32mC:\\software_install\\lib\\site-packages\\nltk\\parse\\chart.py\u001b[0m in \u001b[0;36mchart_parse\u001b[1;34m(self, tokens, trace)\u001b[0m\n\u001b[0;32m   1440\u001b[0m \u001b[1;33m\u001b[0m\u001b[0m\n\u001b[0;32m   1441\u001b[0m         \u001b[0mtokens\u001b[0m \u001b[1;33m=\u001b[0m \u001b[0mlist\u001b[0m\u001b[1;33m(\u001b[0m\u001b[0mtokens\u001b[0m\u001b[1;33m)\u001b[0m\u001b[1;33m\u001b[0m\u001b[1;33m\u001b[0m\u001b[0m\n\u001b[1;32m-> 1442\u001b[1;33m         \u001b[0mself\u001b[0m\u001b[1;33m.\u001b[0m\u001b[0m_grammar\u001b[0m\u001b[1;33m.\u001b[0m\u001b[0mcheck_coverage\u001b[0m\u001b[1;33m(\u001b[0m\u001b[0mtokens\u001b[0m\u001b[1;33m)\u001b[0m\u001b[1;33m\u001b[0m\u001b[1;33m\u001b[0m\u001b[0m\n\u001b[0m\u001b[0;32m   1443\u001b[0m         \u001b[0mchart\u001b[0m \u001b[1;33m=\u001b[0m \u001b[0mself\u001b[0m\u001b[1;33m.\u001b[0m\u001b[0m_chart_class\u001b[0m\u001b[1;33m(\u001b[0m\u001b[0mtokens\u001b[0m\u001b[1;33m)\u001b[0m\u001b[1;33m\u001b[0m\u001b[1;33m\u001b[0m\u001b[0m\n\u001b[0;32m   1444\u001b[0m         \u001b[0mgrammar\u001b[0m \u001b[1;33m=\u001b[0m \u001b[0mself\u001b[0m\u001b[1;33m.\u001b[0m\u001b[0m_grammar\u001b[0m\u001b[1;33m\u001b[0m\u001b[1;33m\u001b[0m\u001b[0m\n",
      "\u001b[1;32mC:\\software_install\\lib\\site-packages\\nltk\\grammar.py\u001b[0m in \u001b[0;36mcheck_coverage\u001b[1;34m(self, tokens)\u001b[0m\n\u001b[0;32m    676\u001b[0m             \u001b[0mmissing\u001b[0m \u001b[1;33m=\u001b[0m \u001b[1;34m\", \"\u001b[0m\u001b[1;33m.\u001b[0m\u001b[0mjoin\u001b[0m\u001b[1;33m(\u001b[0m\u001b[1;34m\"%r\"\u001b[0m \u001b[1;33m%\u001b[0m \u001b[1;33m(\u001b[0m\u001b[0mw\u001b[0m\u001b[1;33m,\u001b[0m\u001b[1;33m)\u001b[0m \u001b[1;32mfor\u001b[0m \u001b[0mw\u001b[0m \u001b[1;32min\u001b[0m \u001b[0mmissing\u001b[0m\u001b[1;33m)\u001b[0m\u001b[1;33m\u001b[0m\u001b[1;33m\u001b[0m\u001b[0m\n\u001b[0;32m    677\u001b[0m             raise ValueError(\n\u001b[1;32m--> 678\u001b[1;33m                 \u001b[1;34m\"Grammar does not cover some of the \"\u001b[0m \u001b[1;34m\"input words: %r.\"\u001b[0m \u001b[1;33m%\u001b[0m \u001b[0mmissing\u001b[0m\u001b[1;33m\u001b[0m\u001b[1;33m\u001b[0m\u001b[0m\n\u001b[0m\u001b[0;32m    679\u001b[0m             )\n\u001b[0;32m    680\u001b[0m \u001b[1;33m\u001b[0m\u001b[0m\n",
      "\u001b[1;31mValueError\u001b[0m: Grammar does not cover some of the input words: \"'I', ' ', ' ', ' ', ' ', ' ', ' ', ' ', ' ', ' ', ' ', ' ', ' ', ' ', ' ', ' ', ' ', ' ', ' ', ' ', ' ', 'g', ' ', ' ', '3', '4', '–', '3', '8', ' ', '°', 'C', ' ', '(', 'g', ' ', 'M', ',', ' ', '2', '0', '0', '5'\"."
     ]
    }
   ],
   "source": [
    "grammar._calculate_indexes()\n",
    "parser = nltk.parse.BottomUpChartParser(grammar)\n",
    "chart = parser.chart_parse(sentences[0][0])\n",
    "chart.draw()"
   ]
  },
  {
   "cell_type": "code",
   "execution_count": 32,
   "metadata": {},
   "outputs": [],
   "source": [
    "trees[0].draw()"
   ]
  },
  {
   "cell_type": "code",
   "execution_count": 20,
   "metadata": {},
   "outputs": [],
   "source": [
    "from nltk import Tree\n",
    "from nltk.draw.util import CanvasFrame\n",
    "from nltk.draw import TreeWidget\n",
    "\n",
    "cf = CanvasFrame()\n",
    "t = Tree.fromstring('(S (NP this tree) (VP (V is) (AdjP pretty)))')\n",
    "tc = TreeWidget(cf.canvas(),t)\n",
    "cf.add_widget(tc,10,10) # (10,10) offsets\n"
   ]
  },
  {
   "cell_type": "code",
   "execution_count": 21,
   "metadata": {},
   "outputs": [],
   "source": [
    "cf.print_to_file('tree.ps')\n"
   ]
  },
  {
   "cell_type": "code",
   "execution_count": 22,
   "metadata": {},
   "outputs": [],
   "source": [
    "cf.destroy()"
   ]
  },
  {
   "cell_type": "code",
   "execution_count": 27,
   "metadata": {},
   "outputs": [],
   "source": [
    "nltk.corpus.sinica_treebank.parsed_sents()[3450].draw() "
   ]
  },
  {
   "cell_type": "code",
   "execution_count": 24,
   "metadata": {},
   "outputs": [
    {
     "name": "stderr",
     "output_type": "stream",
     "text": [
      "The Ghostscript executable isn't found.\n",
      "See http://web.mit.edu/ghostscript/www/Install.htm\n",
      "If you're using a Mac, you can try installing\n",
      "https://docs.brew.sh/Installation then `brew install ghostscript`\n"
     ]
    },
    {
     "ename": "LookupError",
     "evalue": "",
     "output_type": "error",
     "traceback": [
      "\u001b[1;31m---------------------------------------------------------------------------\u001b[0m",
      "\u001b[1;31mLookupError\u001b[0m                               Traceback (most recent call last)",
      "\u001b[1;32mC:\\software_install\\lib\\site-packages\\nltk\\tree.py\u001b[0m in \u001b[0;36m_repr_png_\u001b[1;34m(self)\u001b[0m\n\u001b[0;32m    801\u001b[0m                             \u001b[0menv_vars\u001b[0m\u001b[1;33m=\u001b[0m\u001b[1;33m[\u001b[0m\u001b[1;34m\"PATH\"\u001b[0m\u001b[1;33m]\u001b[0m\u001b[1;33m,\u001b[0m\u001b[1;33m\u001b[0m\u001b[1;33m\u001b[0m\u001b[0m\n\u001b[1;32m--> 802\u001b[1;33m                             \u001b[0mverbose\u001b[0m\u001b[1;33m=\u001b[0m\u001b[1;32mFalse\u001b[0m\u001b[1;33m,\u001b[0m\u001b[1;33m\u001b[0m\u001b[1;33m\u001b[0m\u001b[0m\n\u001b[0m\u001b[0;32m    803\u001b[0m                         )\n",
      "\u001b[1;32mC:\\software_install\\lib\\site-packages\\nltk\\internals.py\u001b[0m in \u001b[0;36mfind_binary\u001b[1;34m(name, path_to_bin, env_vars, searchpath, binary_names, url, verbose)\u001b[0m\n\u001b[0;32m    689\u001b[0m         find_binary_iter(\n\u001b[1;32m--> 690\u001b[1;33m             \u001b[0mname\u001b[0m\u001b[1;33m,\u001b[0m \u001b[0mpath_to_bin\u001b[0m\u001b[1;33m,\u001b[0m \u001b[0menv_vars\u001b[0m\u001b[1;33m,\u001b[0m \u001b[0msearchpath\u001b[0m\u001b[1;33m,\u001b[0m \u001b[0mbinary_names\u001b[0m\u001b[1;33m,\u001b[0m \u001b[0murl\u001b[0m\u001b[1;33m,\u001b[0m \u001b[0mverbose\u001b[0m\u001b[1;33m\u001b[0m\u001b[1;33m\u001b[0m\u001b[0m\n\u001b[0m\u001b[0;32m    691\u001b[0m         )\n",
      "\u001b[1;32mC:\\software_install\\lib\\site-packages\\nltk\\internals.py\u001b[0m in \u001b[0;36mfind_binary_iter\u001b[1;34m(name, path_to_bin, env_vars, searchpath, binary_names, url, verbose)\u001b[0m\n\u001b[0;32m    673\u001b[0m     for file in find_file_iter(\n\u001b[1;32m--> 674\u001b[1;33m         \u001b[0mpath_to_bin\u001b[0m \u001b[1;32mor\u001b[0m \u001b[0mname\u001b[0m\u001b[1;33m,\u001b[0m \u001b[0menv_vars\u001b[0m\u001b[1;33m,\u001b[0m \u001b[0msearchpath\u001b[0m\u001b[1;33m,\u001b[0m \u001b[0mbinary_names\u001b[0m\u001b[1;33m,\u001b[0m \u001b[0murl\u001b[0m\u001b[1;33m,\u001b[0m \u001b[0mverbose\u001b[0m\u001b[1;33m\u001b[0m\u001b[1;33m\u001b[0m\u001b[0m\n\u001b[0m\u001b[0;32m    675\u001b[0m     ):\n",
      "\u001b[1;32mC:\\software_install\\lib\\site-packages\\nltk\\internals.py\u001b[0m in \u001b[0;36mfind_file_iter\u001b[1;34m(filename, env_vars, searchpath, file_names, url, verbose, finding_dir)\u001b[0m\n\u001b[0;32m    631\u001b[0m         \u001b[0mdiv\u001b[0m \u001b[1;33m=\u001b[0m \u001b[1;34m\"=\"\u001b[0m \u001b[1;33m*\u001b[0m \u001b[1;36m75\u001b[0m\u001b[1;33m\u001b[0m\u001b[1;33m\u001b[0m\u001b[0m\n\u001b[1;32m--> 632\u001b[1;33m         \u001b[1;32mraise\u001b[0m \u001b[0mLookupError\u001b[0m\u001b[1;33m(\u001b[0m\u001b[1;34m\"\\n\\n%s\\n%s\\n%s\"\u001b[0m \u001b[1;33m%\u001b[0m \u001b[1;33m(\u001b[0m\u001b[0mdiv\u001b[0m\u001b[1;33m,\u001b[0m \u001b[0mmsg\u001b[0m\u001b[1;33m,\u001b[0m \u001b[0mdiv\u001b[0m\u001b[1;33m)\u001b[0m\u001b[1;33m)\u001b[0m\u001b[1;33m\u001b[0m\u001b[1;33m\u001b[0m\u001b[0m\n\u001b[0m\u001b[0;32m    633\u001b[0m \u001b[1;33m\u001b[0m\u001b[0m\n",
      "\u001b[1;31mLookupError\u001b[0m: \n\n===========================================================================\nNLTK was unable to find the gs file!\nUse software specific configuration paramaters or set the PATH environment variable.\n===========================================================================",
      "\nDuring handling of the above exception, another exception occurred:\n",
      "\u001b[1;31mLookupError\u001b[0m                               Traceback (most recent call last)",
      "\u001b[1;32mC:\\software_install\\lib\\site-packages\\IPython\\core\\formatters.py\u001b[0m in \u001b[0;36m__call__\u001b[1;34m(self, obj)\u001b[0m\n\u001b[0;32m    343\u001b[0m             \u001b[0mmethod\u001b[0m \u001b[1;33m=\u001b[0m \u001b[0mget_real_method\u001b[0m\u001b[1;33m(\u001b[0m\u001b[0mobj\u001b[0m\u001b[1;33m,\u001b[0m \u001b[0mself\u001b[0m\u001b[1;33m.\u001b[0m\u001b[0mprint_method\u001b[0m\u001b[1;33m)\u001b[0m\u001b[1;33m\u001b[0m\u001b[1;33m\u001b[0m\u001b[0m\n\u001b[0;32m    344\u001b[0m             \u001b[1;32mif\u001b[0m \u001b[0mmethod\u001b[0m \u001b[1;32mis\u001b[0m \u001b[1;32mnot\u001b[0m \u001b[1;32mNone\u001b[0m\u001b[1;33m:\u001b[0m\u001b[1;33m\u001b[0m\u001b[1;33m\u001b[0m\u001b[0m\n\u001b[1;32m--> 345\u001b[1;33m                 \u001b[1;32mreturn\u001b[0m \u001b[0mmethod\u001b[0m\u001b[1;33m(\u001b[0m\u001b[1;33m)\u001b[0m\u001b[1;33m\u001b[0m\u001b[1;33m\u001b[0m\u001b[0m\n\u001b[0m\u001b[0;32m    346\u001b[0m             \u001b[1;32mreturn\u001b[0m \u001b[1;32mNone\u001b[0m\u001b[1;33m\u001b[0m\u001b[1;33m\u001b[0m\u001b[0m\n\u001b[0;32m    347\u001b[0m         \u001b[1;32melse\u001b[0m\u001b[1;33m:\u001b[0m\u001b[1;33m\u001b[0m\u001b[1;33m\u001b[0m\u001b[0m\n",
      "\u001b[1;32mC:\\software_install\\lib\\site-packages\\nltk\\tree.py\u001b[0m in \u001b[0;36m_repr_png_\u001b[1;34m(self)\u001b[0m\n\u001b[0;32m    815\u001b[0m                 )\n\u001b[0;32m    816\u001b[0m                 \u001b[0mprint\u001b[0m\u001b[1;33m(\u001b[0m\u001b[0mpre_error_message\u001b[0m\u001b[1;33m,\u001b[0m \u001b[0mfile\u001b[0m\u001b[1;33m=\u001b[0m\u001b[0msys\u001b[0m\u001b[1;33m.\u001b[0m\u001b[0mstderr\u001b[0m\u001b[1;33m)\u001b[0m\u001b[1;33m\u001b[0m\u001b[1;33m\u001b[0m\u001b[0m\n\u001b[1;32m--> 817\u001b[1;33m                 \u001b[1;32mraise\u001b[0m \u001b[0mLookupError\u001b[0m\u001b[1;33m\u001b[0m\u001b[1;33m\u001b[0m\u001b[0m\n\u001b[0m\u001b[0;32m    818\u001b[0m \u001b[1;33m\u001b[0m\u001b[0m\n\u001b[0;32m    819\u001b[0m             \u001b[1;32mwith\u001b[0m \u001b[0mopen\u001b[0m\u001b[1;33m(\u001b[0m\u001b[0mout_path\u001b[0m\u001b[1;33m,\u001b[0m \u001b[1;34m\"rb\"\u001b[0m\u001b[1;33m)\u001b[0m \u001b[1;32mas\u001b[0m \u001b[0msr\u001b[0m\u001b[1;33m:\u001b[0m\u001b[1;33m\u001b[0m\u001b[1;33m\u001b[0m\u001b[0m\n",
      "\u001b[1;31mLookupError\u001b[0m: "
     ]
    },
    {
     "data": {
      "text/plain": [
       "Tree('VP', [Tree('Ndabe', ['同時']), Tree('Dd', ['就']), Tree('VC32', ['帶']), Tree('Di', ['了']), Tree('NP', [Tree('NP', [Tree('DM', ['四張']), Tree('VH11', ['熟']), Tree('Nab', ['牛皮'])]), Tree('Caa', ['和']), Tree('NP', [Tree('DM', ['十二頭']), Tree('VH16', ['肥']), Tree('Nab', ['牛'])])])])"
      ]
     },
     "execution_count": 24,
     "metadata": {},
     "output_type": "execute_result"
    }
   ],
   "source": [
    "nltk.corpus.sinica_treebank.parsed_sents()[3450]"
   ]
  },
  {
   "cell_type": "code",
   "execution_count": null,
   "metadata": {},
   "outputs": [],
   "source": []
  }
 ],
 "metadata": {
  "kernelspec": {
   "display_name": "Python 3",
   "language": "python",
   "name": "python3"
  },
  "language_info": {
   "codemirror_mode": {
    "name": "ipython",
    "version": 3
   },
   "file_extension": ".py",
   "mimetype": "text/x-python",
   "name": "python",
   "nbconvert_exporter": "python",
   "pygments_lexer": "ipython3",
   "version": "3.7.6"
  }
 },
 "nbformat": 4,
 "nbformat_minor": 4
}
